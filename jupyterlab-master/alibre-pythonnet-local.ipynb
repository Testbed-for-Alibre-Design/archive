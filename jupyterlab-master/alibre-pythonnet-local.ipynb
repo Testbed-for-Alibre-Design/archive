{
 "cells": [
  {
   "cell_type": "code",
   "execution_count": 5,
   "id": "93bf8cdd-408e-460f-a805-b75ffbd59266",
   "metadata": {},
   "outputs": [],
   "source": [
    "import pythonnet\n",
    "import sys\n",
    "sys.path.append(r'.')\n",
    "import clr\n",
    "clr.AddReference(r'TestLib')\n",
    "import System\n",
    "clr.AddReference(\"System.Runtime.InteropServices\")\n",
    "from LibraryVb import *\n",
    "\n",
    "def CodeTest():\n",
    "    Init.CodeTest()\n",
    "    print(\"CodeTest worked!\")\n",
    "\n",
    "def CodeTest2(x,y,z):\n",
    "       \"\"\"\n",
    "    Calls the printpoint method from the Init class within the LibraryVb namespace with the given parameters.\n",
    "\n",
    "    Parameters:\n",
    "        x (float): The x coordinate.\n",
    "        y (float): The y coordinate.\n",
    "        z (float): The z coordinate.\n",
    "\n",
    "    No return value.\n",
    "    \"\"\"\n",
    "       Init.printpoint(x,y,z)"
   ]
  },
  {
   "cell_type": "code",
   "execution_count": 6,
   "id": "f1d295fd-b0c9-4410-8b05-6352013e8ea8",
   "metadata": {},
   "outputs": [
    {
     "name": "stdout",
     "output_type": "stream",
     "text": [
      "CodeTest worked!\n"
     ]
    }
   ],
   "source": [
    "    CodeTest()\n",
    "    CodeTest2(10.25,50.125,0.214)"
   ]
  },
  {
   "cell_type": "code",
   "execution_count": null,
   "id": "7bc1ab3e-d8f5-4674-88cb-ee8a40551504",
   "metadata": {},
   "outputs": [],
   "source": []
  },
  {
   "cell_type": "code",
   "execution_count": null,
   "id": "3bc67a59-94f1-4cc4-97c4-153c5151e1a3",
   "metadata": {},
   "outputs": [],
   "source": []
  }
 ],
 "metadata": {
  "kernelspec": {
   "display_name": "Python 3",
   "language": "python",
   "name": "python3"
  }
 },
 "nbformat": 4,
 "nbformat_minor": 5
}
